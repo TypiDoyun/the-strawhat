{
 "cells": [
  {
   "cell_type": "code",
   "execution_count": 1,
   "id": "fc66b3e7-c73b-4b4d-90b5-d0657502b08e",
   "metadata": {},
   "outputs": [
    {
     "name": "stdout",
     "output_type": "stream",
     "text": [
      "2023.3.0-13775-ceeafaf64f3-releases/2023/3\n"
     ]
    }
   ],
   "source": [
    "from openvino.runtime import get_version\n",
    "print(get_version())"
   ]
  },
  {
   "cell_type": "code",
   "execution_count": null,
   "id": "8c68e0c3-ad9f-4cd9-be50-0e04acd96b45",
   "metadata": {},
   "outputs": [],
   "source": []
  }
 ],
 "metadata": {
  "kernelspec": {
   "display_name": "Python 3 (ipykernel)",
   "language": "python",
   "name": "python3"
  },
  "language_info": {
   "codemirror_mode": {
    "name": "ipython",
    "version": 3
   },
   "file_extension": ".py",
   "mimetype": "text/x-python",
   "name": "python",
   "nbconvert_exporter": "python",
   "pygments_lexer": "ipython3",
   "version": "3.11.5"
  }
 },
 "nbformat": 4,
 "nbformat_minor": 5
}
